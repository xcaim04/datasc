{
 "cells": [
  {
   "cell_type": "markdown",
   "id": "c7327e82-fd82-4234-a5ec-2c94292c198f",
   "metadata": {},
   "source": [
    "## Numpy"
   ]
  },
  {
   "cell_type": "markdown",
   "id": "a19730c2-6384-4353-80d1-4df49846f9d6",
   "metadata": {},
   "source": [
    "__Ejercicio 1:__"
   ]
  },
  {
   "cell_type": "markdown",
   "id": "d0c1cfcc-7730-4612-9a49-23f3790b543f",
   "metadata": {},
   "source": [
    "Importar numpy"
   ]
  },
  {
   "cell_type": "code",
   "execution_count": 4,
   "id": "fdc297ee-bc0d-42b8-a1cb-c01e45fae36d",
   "metadata": {},
   "outputs": [],
   "source": [
    "import numpy as np"
   ]
  },
  {
   "cell_type": "code",
   "execution_count": 5,
   "id": "a70a8238-60ef-4383-b3da-4714c1074c85",
   "metadata": {},
   "outputs": [],
   "source": [
    "import matplotlib.pyplot as plt"
   ]
  },
  {
   "cell_type": "markdown",
   "id": "6abe2412-1096-42ef-ac26-97d52d483563",
   "metadata": {},
   "source": [
    "__Ejercicio 2:__"
   ]
  },
  {
   "cell_type": "code",
   "execution_count": 6,
   "id": "d06d31a3-2aba-4262-ba57-bb8b5989bb0f",
   "metadata": {},
   "outputs": [],
   "source": [
    "lista= [31,28,29,19]"
   ]
  },
  {
   "cell_type": "markdown",
   "id": "a280bead-9a9a-4605-8954-e47d37cac2a6",
   "metadata": {},
   "source": [
    "Crear una ndarray utilizando la lista anterior"
   ]
  },
  {
   "cell_type": "code",
   "execution_count": 7,
   "id": "2fc49c07-0660-44da-8fd0-c5f71fbf67d7",
   "metadata": {},
   "outputs": [],
   "source": [
    "arr = np.array(lista)"
   ]
  },
  {
   "cell_type": "code",
   "execution_count": 8,
   "id": "4e019442",
   "metadata": {},
   "outputs": [
    {
     "name": "stdout",
     "output_type": "stream",
     "text": [
      "[31 28 29 19]\n"
     ]
    }
   ],
   "source": [
    "print(arr)"
   ]
  },
  {
   "cell_type": "markdown",
   "id": "a7f7692d-63e3-4688-bbda-9c5dc9340e0f",
   "metadata": {},
   "source": [
    "__Ejercicio 3:__"
   ]
  },
  {
   "cell_type": "code",
   "execution_count": 9,
   "id": "4d0aa5ca-e154-4f9b-9b25-7c7f2695e06b",
   "metadata": {},
   "outputs": [],
   "source": [
    "lista_2d=[[2,3,4],\n",
    "          [3,4,5],\n",
    "          [3,4,5],\n",
    "          [3,4,5]]"
   ]
  },
  {
   "cell_type": "markdown",
   "id": "d7c21cc3-407d-44ef-82a9-82733f2bffee",
   "metadata": {},
   "source": [
    "Crear una ndarray utilizando la lista bidimensional anterior"
   ]
  },
  {
   "cell_type": "code",
   "execution_count": 10,
   "id": "3aa7c127-4943-45f2-a5a3-3e9ef4cc7589",
   "metadata": {},
   "outputs": [],
   "source": [
    "arr = np.array(lista_2d)"
   ]
  },
  {
   "cell_type": "code",
   "execution_count": 11,
   "id": "32c13000",
   "metadata": {},
   "outputs": [
    {
     "name": "stdout",
     "output_type": "stream",
     "text": [
      "[[2 3 4]\n",
      " [3 4 5]\n",
      " [3 4 5]\n",
      " [3 4 5]]\n"
     ]
    }
   ],
   "source": [
    "print(arr)"
   ]
  },
  {
   "cell_type": "markdown",
   "id": "ef3847b6-eda7-4fd1-b115-3c240a2413a7",
   "metadata": {},
   "source": [
    "__Ejercicio 4:__"
   ]
  },
  {
   "cell_type": "markdown",
   "id": "7ebe38ea-eef2-49d6-b15e-a9ecb2a52b2c",
   "metadata": {},
   "source": [
    "Utilizar la propiedad shape para obtener la forma del ndarray anterior"
   ]
  },
  {
   "cell_type": "code",
   "execution_count": 12,
   "id": "15be0acf-6149-4104-a361-ac862e9e6620",
   "metadata": {},
   "outputs": [
    {
     "data": {
      "text/plain": [
       "(4, 3)"
      ]
     },
     "execution_count": 12,
     "metadata": {},
     "output_type": "execute_result"
    }
   ],
   "source": [
    "arr.shape\n",
    "# (rows, columns)"
   ]
  },
  {
   "cell_type": "markdown",
   "id": "4824638b-96e5-4754-be79-8c823f834420",
   "metadata": {},
   "source": [
    "Utilizar la propiedad ndim para obtener las dimensiones del ndarray anterior"
   ]
  },
  {
   "cell_type": "code",
   "execution_count": 13,
   "id": "6c2fad0b-cb86-439e-b4a7-7fd3edbba2c7",
   "metadata": {},
   "outputs": [
    {
     "data": {
      "text/plain": [
       "2"
      ]
     },
     "execution_count": 13,
     "metadata": {},
     "output_type": "execute_result"
    }
   ],
   "source": [
    "arr.ndim"
   ]
  },
  {
   "cell_type": "markdown",
   "id": "1e434bf5-ec3f-4c86-8e41-09fe3eb736a0",
   "metadata": {},
   "source": [
    "Utilizar la propiedad dtype para obtener el tipo de los datos en el ndarray anterior"
   ]
  },
  {
   "cell_type": "code",
   "execution_count": 14,
   "id": "69e66663-e400-4795-9f81-84978b1cad1f",
   "metadata": {},
   "outputs": [
    {
     "data": {
      "text/plain": [
       "dtype('int64')"
      ]
     },
     "execution_count": 14,
     "metadata": {},
     "output_type": "execute_result"
    }
   ],
   "source": [
    "arr.dtype"
   ]
  },
  {
   "cell_type": "markdown",
   "id": "184283c0-3789-48fc-bac0-d7cdf275bec4",
   "metadata": {},
   "source": [
    "Utilizar la propiedad size para obtener la cantidad total de datos en el ndarray anterior"
   ]
  },
  {
   "cell_type": "code",
   "execution_count": 15,
   "id": "a22fd4c0-43b7-4bee-b34e-99d0599aee2d",
   "metadata": {},
   "outputs": [
    {
     "data": {
      "text/plain": [
       "12"
      ]
     },
     "execution_count": 15,
     "metadata": {},
     "output_type": "execute_result"
    }
   ],
   "source": [
    "arr.size"
   ]
  },
  {
   "cell_type": "markdown",
   "id": "5dd95a43-7d3d-426a-9bd1-48e1bd3b2da9",
   "metadata": {},
   "source": [
    "__Ejercicio 5:__"
   ]
  },
  {
   "cell_type": "markdown",
   "id": "761e91bc-f278-4380-ba5b-d05f9cbdec6f",
   "metadata": {},
   "source": [
    "Crear un ndarray utilizando la lista \"lista_2d\", el tipo de los datos debe ser \"int16\""
   ]
  },
  {
   "cell_type": "code",
   "execution_count": 16,
   "id": "94b41715-3d42-427e-a3fd-240487b0ea90",
   "metadata": {},
   "outputs": [],
   "source": [
    "arr = np.array(lista_2d, dtype = np.int16)"
   ]
  },
  {
   "cell_type": "code",
   "execution_count": 17,
   "id": "d839d5da",
   "metadata": {},
   "outputs": [
    {
     "data": {
      "text/plain": [
       "array([[2, 3, 4],\n",
       "       [3, 4, 5],\n",
       "       [3, 4, 5],\n",
       "       [3, 4, 5]], dtype=int16)"
      ]
     },
     "execution_count": 17,
     "metadata": {},
     "output_type": "execute_result"
    }
   ],
   "source": [
    "arr"
   ]
  },
  {
   "cell_type": "markdown",
   "id": "67a2d007-ddec-41df-8bb2-df4a51420fae",
   "metadata": {},
   "source": [
    "__Ejercicio 6:__"
   ]
  },
  {
   "cell_type": "markdown",
   "id": "95aebac0-6ef3-45de-a8a8-be4d7cb71d7c",
   "metadata": {},
   "source": [
    "Utilizar la función np.zeros para crear un ndarray con la forma 3x2"
   ]
  },
  {
   "cell_type": "code",
   "execution_count": 18,
   "id": "d2997bc4-ae45-4b4a-aa36-7329dc32b33e",
   "metadata": {},
   "outputs": [
    {
     "data": {
      "text/plain": [
       "array([[0., 0.],\n",
       "       [0., 0.],\n",
       "       [0., 0.]])"
      ]
     },
     "execution_count": 18,
     "metadata": {},
     "output_type": "execute_result"
    }
   ],
   "source": [
    "np.zeros((3, 2))"
   ]
  },
  {
   "cell_type": "markdown",
   "id": "61a92a21-f2ee-4b7d-bea8-24f7bec015c3",
   "metadata": {},
   "source": [
    "Utilizar la función np.ones para crear un ndarray con la forma 3x3"
   ]
  },
  {
   "cell_type": "code",
   "execution_count": 19,
   "id": "87db7972-fda2-4858-a456-6670825c6479",
   "metadata": {},
   "outputs": [
    {
     "data": {
      "text/plain": [
       "array([[1., 1., 1.],\n",
       "       [1., 1., 1.],\n",
       "       [1., 1., 1.]])"
      ]
     },
     "execution_count": 19,
     "metadata": {},
     "output_type": "execute_result"
    }
   ],
   "source": [
    "np.ones((3, 3))"
   ]
  },
  {
   "cell_type": "markdown",
   "id": "b3956de0-7f1c-4424-9a95-f5c38f4ff01f",
   "metadata": {},
   "source": [
    "Utilizar la función np.empty para crear un ndarray con la forma 2x4"
   ]
  },
  {
   "cell_type": "code",
   "execution_count": 20,
   "id": "ea688cdb-6eca-43ed-9415-a11289356396",
   "metadata": {},
   "outputs": [
    {
     "data": {
      "text/plain": [
       "array([[3.0281621e-316, 0.0000000e+000, 0.0000000e+000, 0.0000000e+000],\n",
       "       [0.0000000e+000, 0.0000000e+000, 0.0000000e+000, 0.0000000e+000]])"
      ]
     },
     "execution_count": 20,
     "metadata": {},
     "output_type": "execute_result"
    }
   ],
   "source": [
    "np.empty((2, 4))"
   ]
  },
  {
   "cell_type": "markdown",
   "id": "d97f5126-5e89-4e84-bff8-8ab2922ebccb",
   "metadata": {},
   "source": [
    "__Ejercicio 7:__"
   ]
  },
  {
   "cell_type": "markdown",
   "id": "9b4f9ead-3891-4b57-b174-b601dc0683bf",
   "metadata": {},
   "source": [
    "Crear un ndarray de 1 dimensión con los valores del 0 al 9 (Ej. [1,2,3,...])"
   ]
  },
  {
   "cell_type": "code",
   "execution_count": 21,
   "id": "8cdb9077-e8b1-4c35-ad3a-4ec715e79112",
   "metadata": {},
   "outputs": [
    {
     "data": {
      "text/plain": [
       "array([0, 1, 2, 3, 4, 5, 6, 7, 8, 9])"
      ]
     },
     "execution_count": 21,
     "metadata": {},
     "output_type": "execute_result"
    }
   ],
   "source": [
    "np.arange(10)"
   ]
  },
  {
   "cell_type": "markdown",
   "id": "57be4fb9-0969-4a92-a278-387d7595c3fc",
   "metadata": {},
   "source": [
    "Crear un ndarray de 2 dimensión con la forma 2x5,los valores deben ser del 0 al 9 (Ej. [[0,1,2,3,4],[5,6,..]])"
   ]
  },
  {
   "cell_type": "code",
   "execution_count": 22,
   "id": "79a345a8-b779-415d-b22e-e87d75b1672f",
   "metadata": {},
   "outputs": [
    {
     "data": {
      "text/plain": [
       "array([[0, 1, 2, 3, 4],\n",
       "       [5, 6, 7, 8, 9]])"
      ]
     },
     "execution_count": 22,
     "metadata": {},
     "output_type": "execute_result"
    }
   ],
   "source": [
    "np.arange(10).reshape((2, 5))"
   ]
  },
  {
   "cell_type": "markdown",
   "id": "31da554b-5b01-4c72-a240-31daba880c19",
   "metadata": {},
   "source": [
    "__Ejercicio 8:__"
   ]
  },
  {
   "cell_type": "markdown",
   "id": "2f5a7f25-48d2-4171-9b5f-3dd956e57e50",
   "metadata": {},
   "source": [
    "Utilizar np.arange para crear un ndarray con los valores del 10 al 20, deben ir de 2 en 2 (Ej. [10,12,..])"
   ]
  },
  {
   "cell_type": "code",
   "execution_count": 23,
   "id": "c05f65d7-55df-4bb3-862e-7eab91a3d3d9",
   "metadata": {},
   "outputs": [
    {
     "data": {
      "text/plain": [
       "array([10, 12, 14, 16, 18])"
      ]
     },
     "execution_count": 23,
     "metadata": {},
     "output_type": "execute_result"
    }
   ],
   "source": [
    "np.arange(10, 20, 2)"
   ]
  },
  {
   "cell_type": "markdown",
   "id": "a42828a6-38db-46fd-8fa8-301a8838c627",
   "metadata": {},
   "source": [
    "__Ejercicio 9:__"
   ]
  },
  {
   "cell_type": "markdown",
   "id": "fd702fb3-3cd9-45d6-8032-57bbec0a51b1",
   "metadata": {},
   "source": [
    "Utilizar np.linspace para crear un ndarray con los valores enteros entre el 10 al 20"
   ]
  },
  {
   "cell_type": "code",
   "execution_count": 24,
   "id": "85cc30af-250f-4ab8-a7cf-eed247a0dea9",
   "metadata": {},
   "outputs": [
    {
     "data": {
      "text/plain": [
       "array([10.        , 10.20408163, 10.40816327, 10.6122449 , 10.81632653,\n",
       "       11.02040816, 11.2244898 , 11.42857143, 11.63265306, 11.83673469,\n",
       "       12.04081633, 12.24489796, 12.44897959, 12.65306122, 12.85714286,\n",
       "       13.06122449, 13.26530612, 13.46938776, 13.67346939, 13.87755102,\n",
       "       14.08163265, 14.28571429, 14.48979592, 14.69387755, 14.89795918,\n",
       "       15.10204082, 15.30612245, 15.51020408, 15.71428571, 15.91836735,\n",
       "       16.12244898, 16.32653061, 16.53061224, 16.73469388, 16.93877551,\n",
       "       17.14285714, 17.34693878, 17.55102041, 17.75510204, 17.95918367,\n",
       "       18.16326531, 18.36734694, 18.57142857, 18.7755102 , 18.97959184,\n",
       "       19.18367347, 19.3877551 , 19.59183673, 19.79591837, 20.        ])"
      ]
     },
     "execution_count": 24,
     "metadata": {},
     "output_type": "execute_result"
    }
   ],
   "source": [
    "np.linspace(10, 20, 50)"
   ]
  },
  {
   "cell_type": "markdown",
   "id": "d04b6ccf-5d9b-4769-a3a2-d65d93e644d4",
   "metadata": {},
   "source": [
    "__Ejercicio 10:__"
   ]
  },
  {
   "cell_type": "markdown",
   "id": "a5624bd4-06c2-4959-8e10-d1b8e0227705",
   "metadata": {},
   "source": [
    "Utilizar np.linspace para crear un ndarray  con 100 números entre el 0 y 2$\\pi$"
   ]
  },
  {
   "cell_type": "code",
   "execution_count": 25,
   "id": "aa9439dc-b364-465c-b260-ca47fd9fcec4",
   "metadata": {},
   "outputs": [
    {
     "data": {
      "text/plain": [
       "array([0.        , 0.00628947, 0.01257895, 0.01886842, 0.0251579 ,\n",
       "       0.03144737, 0.03773685, 0.04402632, 0.0503158 , 0.05660527,\n",
       "       0.06289475, 0.06918422, 0.0754737 , 0.08176317, 0.08805265,\n",
       "       0.09434212, 0.1006316 , 0.10692107, 0.11321055, 0.11950002,\n",
       "       0.1257895 , 0.13207897, 0.13836845, 0.14465792, 0.15094739,\n",
       "       0.15723687, 0.16352634, 0.16981582, 0.17610529, 0.18239477,\n",
       "       0.18868424, 0.19497372, 0.20126319, 0.20755267, 0.21384214,\n",
       "       0.22013162, 0.22642109, 0.23271057, 0.23900004, 0.24528952,\n",
       "       0.25157899, 0.25786847, 0.26415794, 0.27044742, 0.27673689,\n",
       "       0.28302637, 0.28931584, 0.29560531, 0.30189479, 0.30818426,\n",
       "       0.31447374, 0.32076321, 0.32705269, 0.33334216, 0.33963164,\n",
       "       0.34592111, 0.35221059, 0.35850006, 0.36478954, 0.37107901,\n",
       "       0.37736849, 0.38365796, 0.38994744, 0.39623691, 0.40252639,\n",
       "       0.40881586, 0.41510534, 0.42139481, 0.42768429, 0.43397376,\n",
       "       0.44026323, 0.44655271, 0.45284218, 0.45913166, 0.46542113,\n",
       "       0.47171061, 0.47800008, 0.48428956, 0.49057903, 0.49686851,\n",
       "       0.50315798, 0.50944746, 0.51573693, 0.52202641, 0.52831588,\n",
       "       0.53460536, 0.54089483, 0.54718431, 0.55347378, 0.55976326,\n",
       "       0.56605273, 0.57234221, 0.57863168, 0.58492115, 0.59121063,\n",
       "       0.5975001 , 0.60378958, 0.61007905, 0.61636853, 0.622658  ,\n",
       "       0.62894748, 0.63523695, 0.64152643, 0.6478159 , 0.65410538,\n",
       "       0.66039485, 0.66668433, 0.6729738 , 0.67926328, 0.68555275,\n",
       "       0.69184223, 0.6981317 , 0.70442118, 0.71071065, 0.71700013,\n",
       "       0.7232896 , 0.72957907, 0.73586855, 0.74215802, 0.7484475 ,\n",
       "       0.75473697, 0.76102645, 0.76731592, 0.7736054 , 0.77989487,\n",
       "       0.78618435, 0.79247382, 0.7987633 , 0.80505277, 0.81134225,\n",
       "       0.81763172, 0.8239212 , 0.83021067, 0.83650015, 0.84278962,\n",
       "       0.8490791 , 0.85536857, 0.86165805, 0.86794752, 0.87423699,\n",
       "       0.88052647, 0.88681594, 0.89310542, 0.89939489, 0.90568437,\n",
       "       0.91197384, 0.91826332, 0.92455279, 0.93084227, 0.93713174,\n",
       "       0.94342122, 0.94971069, 0.95600017, 0.96228964, 0.96857912,\n",
       "       0.97486859, 0.98115807, 0.98744754, 0.99373702, 1.00002649,\n",
       "       1.00631597, 1.01260544, 1.01889491, 1.02518439, 1.03147386,\n",
       "       1.03776334, 1.04405281, 1.05034229, 1.05663176, 1.06292124,\n",
       "       1.06921071, 1.07550019, 1.08178966, 1.08807914, 1.09436861,\n",
       "       1.10065809, 1.10694756, 1.11323704, 1.11952651, 1.12581599,\n",
       "       1.13210546, 1.13839494, 1.14468441, 1.15097389, 1.15726336,\n",
       "       1.16355283, 1.16984231, 1.17613178, 1.18242126, 1.18871073,\n",
       "       1.19500021, 1.20128968, 1.20757916, 1.21386863, 1.22015811,\n",
       "       1.22644758, 1.23273706, 1.23902653, 1.24531601, 1.25160548,\n",
       "       1.25789496, 1.26418443, 1.27047391, 1.27676338, 1.28305286,\n",
       "       1.28934233, 1.29563181, 1.30192128, 1.30821075, 1.31450023,\n",
       "       1.3207897 , 1.32707918, 1.33336865, 1.33965813, 1.3459476 ,\n",
       "       1.35223708, 1.35852655, 1.36481603, 1.3711055 , 1.37739498,\n",
       "       1.38368445, 1.38997393, 1.3962634 , 1.40255288, 1.40884235,\n",
       "       1.41513183, 1.4214213 , 1.42771078, 1.43400025, 1.44028973,\n",
       "       1.4465792 , 1.45286867, 1.45915815, 1.46544762, 1.4717371 ,\n",
       "       1.47802657, 1.48431605, 1.49060552, 1.496895  , 1.50318447,\n",
       "       1.50947395, 1.51576342, 1.5220529 , 1.52834237, 1.53463185,\n",
       "       1.54092132, 1.5472108 , 1.55350027, 1.55978975, 1.56607922,\n",
       "       1.5723687 , 1.57865817, 1.58494765, 1.59123712, 1.59752659,\n",
       "       1.60381607, 1.61010554, 1.61639502, 1.62268449, 1.62897397,\n",
       "       1.63526344, 1.64155292, 1.64784239, 1.65413187, 1.66042134,\n",
       "       1.66671082, 1.67300029, 1.67928977, 1.68557924, 1.69186872,\n",
       "       1.69815819, 1.70444767, 1.71073714, 1.71702662, 1.72331609,\n",
       "       1.72960557, 1.73589504, 1.74218451, 1.74847399, 1.75476346,\n",
       "       1.76105294, 1.76734241, 1.77363189, 1.77992136, 1.78621084,\n",
       "       1.79250031, 1.79878979, 1.80507926, 1.81136874, 1.81765821,\n",
       "       1.82394769, 1.83023716, 1.83652664, 1.84281611, 1.84910559,\n",
       "       1.85539506, 1.86168454, 1.86797401, 1.87426349, 1.88055296,\n",
       "       1.88684243, 1.89313191, 1.89942138, 1.90571086, 1.91200033,\n",
       "       1.91828981, 1.92457928, 1.93086876, 1.93715823, 1.94344771,\n",
       "       1.94973718, 1.95602666, 1.96231613, 1.96860561, 1.97489508,\n",
       "       1.98118456, 1.98747403, 1.99376351, 2.00005298, 2.00634246,\n",
       "       2.01263193, 2.01892141, 2.02521088, 2.03150035, 2.03778983,\n",
       "       2.0440793 , 2.05036878, 2.05665825, 2.06294773, 2.0692372 ,\n",
       "       2.07552668, 2.08181615, 2.08810563, 2.0943951 , 2.10068458,\n",
       "       2.10697405, 2.11326353, 2.119553  , 2.12584248, 2.13213195,\n",
       "       2.13842143, 2.1447109 , 2.15100038, 2.15728985, 2.16357932,\n",
       "       2.1698688 , 2.17615827, 2.18244775, 2.18873722, 2.1950267 ,\n",
       "       2.20131617, 2.20760565, 2.21389512, 2.2201846 , 2.22647407,\n",
       "       2.23276355, 2.23905302, 2.2453425 , 2.25163197, 2.25792145,\n",
       "       2.26421092, 2.2705004 , 2.27678987, 2.28307935, 2.28936882,\n",
       "       2.2956583 , 2.30194777, 2.30823724, 2.31452672, 2.32081619,\n",
       "       2.32710567, 2.33339514, 2.33968462, 2.34597409, 2.35226357,\n",
       "       2.35855304, 2.36484252, 2.37113199, 2.37742147, 2.38371094,\n",
       "       2.39000042, 2.39628989, 2.40257937, 2.40886884, 2.41515832,\n",
       "       2.42144779, 2.42773727, 2.43402674, 2.44031622, 2.44660569,\n",
       "       2.45289516, 2.45918464, 2.46547411, 2.47176359, 2.47805306,\n",
       "       2.48434254, 2.49063201, 2.49692149, 2.50321096, 2.50950044,\n",
       "       2.51578991, 2.52207939, 2.52836886, 2.53465834, 2.54094781,\n",
       "       2.54723729, 2.55352676, 2.55981624, 2.56610571, 2.57239519,\n",
       "       2.57868466, 2.58497414, 2.59126361, 2.59755308, 2.60384256,\n",
       "       2.61013203, 2.61642151, 2.62271098, 2.62900046, 2.63528993,\n",
       "       2.64157941, 2.64786888, 2.65415836, 2.66044783, 2.66673731,\n",
       "       2.67302678, 2.67931626, 2.68560573, 2.69189521, 2.69818468,\n",
       "       2.70447416, 2.71076363, 2.71705311, 2.72334258, 2.72963206,\n",
       "       2.73592153, 2.742211  , 2.74850048, 2.75478995, 2.76107943,\n",
       "       2.7673689 , 2.77365838, 2.77994785, 2.78623733, 2.7925268 ,\n",
       "       2.79881628, 2.80510575, 2.81139523, 2.8176847 , 2.82397418,\n",
       "       2.83026365, 2.83655313, 2.8428426 , 2.84913208, 2.85542155,\n",
       "       2.86171103, 2.8680005 , 2.87428998, 2.88057945, 2.88686892,\n",
       "       2.8931584 , 2.89944787, 2.90573735, 2.91202682, 2.9183163 ,\n",
       "       2.92460577, 2.93089525, 2.93718472, 2.9434742 , 2.94976367,\n",
       "       2.95605315, 2.96234262, 2.9686321 , 2.97492157, 2.98121105,\n",
       "       2.98750052, 2.99379   , 3.00007947, 3.00636895, 3.01265842,\n",
       "       3.0189479 , 3.02523737, 3.03152684, 3.03781632, 3.04410579,\n",
       "       3.05039527, 3.05668474, 3.06297422, 3.06926369, 3.07555317,\n",
       "       3.08184264, 3.08813212, 3.09442159, 3.10071107, 3.10700054,\n",
       "       3.11329002, 3.11957949, 3.12586897, 3.13215844, 3.13844792,\n",
       "       3.14473739, 3.15102687, 3.15731634, 3.16360582, 3.16989529,\n",
       "       3.17618476, 3.18247424, 3.18876371, 3.19505319, 3.20134266,\n",
       "       3.20763214, 3.21392161, 3.22021109, 3.22650056, 3.23279004,\n",
       "       3.23907951, 3.24536899, 3.25165846, 3.25794794, 3.26423741,\n",
       "       3.27052689, 3.27681636, 3.28310584, 3.28939531, 3.29568479,\n",
       "       3.30197426, 3.30826374, 3.31455321, 3.32084268, 3.32713216,\n",
       "       3.33342163, 3.33971111, 3.34600058, 3.35229006, 3.35857953,\n",
       "       3.36486901, 3.37115848, 3.37744796, 3.38373743, 3.39002691,\n",
       "       3.39631638, 3.40260586, 3.40889533, 3.41518481, 3.42147428,\n",
       "       3.42776376, 3.43405323, 3.44034271, 3.44663218, 3.45292166,\n",
       "       3.45921113, 3.4655006 , 3.47179008, 3.47807955, 3.48436903,\n",
       "       3.4906585 , 3.49694798, 3.50323745, 3.50952693, 3.5158164 ,\n",
       "       3.52210588, 3.52839535, 3.53468483, 3.5409743 , 3.54726378,\n",
       "       3.55355325, 3.55984273, 3.5661322 , 3.57242168, 3.57871115,\n",
       "       3.58500063, 3.5912901 , 3.59757958, 3.60386905, 3.61015852,\n",
       "       3.616448  , 3.62273747, 3.62902695, 3.63531642, 3.6416059 ,\n",
       "       3.64789537, 3.65418485, 3.66047432, 3.6667638 , 3.67305327,\n",
       "       3.67934275, 3.68563222, 3.6919217 , 3.69821117, 3.70450065,\n",
       "       3.71079012, 3.7170796 , 3.72336907, 3.72965855, 3.73594802,\n",
       "       3.7422375 , 3.74852697, 3.75481644, 3.76110592, 3.76739539,\n",
       "       3.77368487, 3.77997434, 3.78626382, 3.79255329, 3.79884277,\n",
       "       3.80513224, 3.81142172, 3.81771119, 3.82400067, 3.83029014,\n",
       "       3.83657962, 3.84286909, 3.84915857, 3.85544804, 3.86173752,\n",
       "       3.86802699, 3.87431647, 3.88060594, 3.88689542, 3.89318489,\n",
       "       3.89947436, 3.90576384, 3.91205331, 3.91834279, 3.92463226,\n",
       "       3.93092174, 3.93721121, 3.94350069, 3.94979016, 3.95607964,\n",
       "       3.96236911, 3.96865859, 3.97494806, 3.98123754, 3.98752701,\n",
       "       3.99381649, 4.00010596, 4.00639544, 4.01268491, 4.01897439,\n",
       "       4.02526386, 4.03155334, 4.03784281, 4.04413228, 4.05042176,\n",
       "       4.05671123, 4.06300071, 4.06929018, 4.07557966, 4.08186913,\n",
       "       4.08815861, 4.09444808, 4.10073756, 4.10702703, 4.11331651,\n",
       "       4.11960598, 4.12589546, 4.13218493, 4.13847441, 4.14476388,\n",
       "       4.15105336, 4.15734283, 4.16363231, 4.16992178, 4.17621126,\n",
       "       4.18250073, 4.1887902 , 4.19507968, 4.20136915, 4.20765863,\n",
       "       4.2139481 , 4.22023758, 4.22652705, 4.23281653, 4.239106  ,\n",
       "       4.24539548, 4.25168495, 4.25797443, 4.2642639 , 4.27055338,\n",
       "       4.27684285, 4.28313233, 4.2894218 , 4.29571128, 4.30200075,\n",
       "       4.30829023, 4.3145797 , 4.32086918, 4.32715865, 4.33344812,\n",
       "       4.3397376 , 4.34602707, 4.35231655, 4.35860602, 4.3648955 ,\n",
       "       4.37118497, 4.37747445, 4.38376392, 4.3900534 , 4.39634287,\n",
       "       4.40263235, 4.40892182, 4.4152113 , 4.42150077, 4.42779025,\n",
       "       4.43407972, 4.4403692 , 4.44665867, 4.45294815, 4.45923762,\n",
       "       4.4655271 , 4.47181657, 4.47810604, 4.48439552, 4.49068499,\n",
       "       4.49697447, 4.50326394, 4.50955342, 4.51584289, 4.52213237,\n",
       "       4.52842184, 4.53471132, 4.54100079, 4.54729027, 4.55357974,\n",
       "       4.55986922, 4.56615869, 4.57244817, 4.57873764, 4.58502712,\n",
       "       4.59131659, 4.59760607, 4.60389554, 4.61018502, 4.61647449,\n",
       "       4.62276396, 4.62905344, 4.63534291, 4.64163239, 4.64792186,\n",
       "       4.65421134, 4.66050081, 4.66679029, 4.67307976, 4.67936924,\n",
       "       4.68565871, 4.69194819, 4.69823766, 4.70452714, 4.71081661,\n",
       "       4.71710609, 4.72339556, 4.72968504, 4.73597451, 4.74226399,\n",
       "       4.74855346, 4.75484294, 4.76113241, 4.76742188, 4.77371136,\n",
       "       4.78000083, 4.78629031, 4.79257978, 4.79886926, 4.80515873,\n",
       "       4.81144821, 4.81773768, 4.82402716, 4.83031663, 4.83660611,\n",
       "       4.84289558, 4.84918506, 4.85547453, 4.86176401, 4.86805348,\n",
       "       4.87434296, 4.88063243, 4.88692191, 4.89321138, 4.89950086,\n",
       "       4.90579033, 4.9120798 , 4.91836928, 4.92465875, 4.93094823,\n",
       "       4.9372377 , 4.94352718, 4.94981665, 4.95610613, 4.9623956 ,\n",
       "       4.96868508, 4.97497455, 4.98126403, 4.9875535 , 4.99384298,\n",
       "       5.00013245, 5.00642193, 5.0127114 , 5.01900088, 5.02529035,\n",
       "       5.03157983, 5.0378693 , 5.04415878, 5.05044825, 5.05673772,\n",
       "       5.0630272 , 5.06931667, 5.07560615, 5.08189562, 5.0881851 ,\n",
       "       5.09447457, 5.10076405, 5.10705352, 5.113343  , 5.11963247,\n",
       "       5.12592195, 5.13221142, 5.1385009 , 5.14479037, 5.15107985,\n",
       "       5.15736932, 5.1636588 , 5.16994827, 5.17623775, 5.18252722,\n",
       "       5.1888167 , 5.19510617, 5.20139564, 5.20768512, 5.21397459,\n",
       "       5.22026407, 5.22655354, 5.23284302, 5.23913249, 5.24542197,\n",
       "       5.25171144, 5.25800092, 5.26429039, 5.27057987, 5.27686934,\n",
       "       5.28315882, 5.28944829, 5.29573777, 5.30202724, 5.30831672,\n",
       "       5.31460619, 5.32089567, 5.32718514, 5.33347462, 5.33976409,\n",
       "       5.34605356, 5.35234304, 5.35863251, 5.36492199, 5.37121146,\n",
       "       5.37750094, 5.38379041, 5.39007989, 5.39636936, 5.40265884,\n",
       "       5.40894831, 5.41523779, 5.42152726, 5.42781674, 5.43410621,\n",
       "       5.44039569, 5.44668516, 5.45297464, 5.45926411, 5.46555359,\n",
       "       5.47184306, 5.47813254, 5.48442201, 5.49071148, 5.49700096,\n",
       "       5.50329043, 5.50957991, 5.51586938, 5.52215886, 5.52844833,\n",
       "       5.53473781, 5.54102728, 5.54731676, 5.55360623, 5.55989571,\n",
       "       5.56618518, 5.57247466, 5.57876413, 5.58505361, 5.59134308,\n",
       "       5.59763256, 5.60392203, 5.61021151, 5.61650098, 5.62279046,\n",
       "       5.62907993, 5.6353694 , 5.64165888, 5.64794835, 5.65423783,\n",
       "       5.6605273 , 5.66681678, 5.67310625, 5.67939573, 5.6856852 ,\n",
       "       5.69197468, 5.69826415, 5.70455363, 5.7108431 , 5.71713258,\n",
       "       5.72342205, 5.72971153, 5.736001  , 5.74229048, 5.74857995,\n",
       "       5.75486943, 5.7611589 , 5.76744838, 5.77373785, 5.78002732,\n",
       "       5.7863168 , 5.79260627, 5.79889575, 5.80518522, 5.8114747 ,\n",
       "       5.81776417, 5.82405365, 5.83034312, 5.8366326 , 5.84292207,\n",
       "       5.84921155, 5.85550102, 5.8617905 , 5.86807997, 5.87436945,\n",
       "       5.88065892, 5.8869484 , 5.89323787, 5.89952735, 5.90581682,\n",
       "       5.9121063 , 5.91839577, 5.92468524, 5.93097472, 5.93726419,\n",
       "       5.94355367, 5.94984314, 5.95613262, 5.96242209, 5.96871157,\n",
       "       5.97500104, 5.98129052, 5.98757999, 5.99386947, 6.00015894,\n",
       "       6.00644842, 6.01273789, 6.01902737, 6.02531684, 6.03160632,\n",
       "       6.03789579, 6.04418527, 6.05047474, 6.05676422, 6.06305369,\n",
       "       6.06934316, 6.07563264, 6.08192211, 6.08821159, 6.09450106,\n",
       "       6.10079054, 6.10708001, 6.11336949, 6.11965896, 6.12594844,\n",
       "       6.13223791, 6.13852739, 6.14481686, 6.15110634, 6.15739581,\n",
       "       6.16368529, 6.16997476, 6.17626424, 6.18255371, 6.18884319,\n",
       "       6.19513266, 6.20142214, 6.20771161, 6.21400108, 6.22029056,\n",
       "       6.22658003, 6.23286951, 6.23915898, 6.24544846, 6.25173793,\n",
       "       6.25802741, 6.26431688, 6.27060636, 6.27689583, 6.28318531])"
      ]
     },
     "execution_count": 25,
     "metadata": {},
     "output_type": "execute_result"
    }
   ],
   "source": [
    "from numpy import pi\n",
    "rad = np.linspace(0, 2*pi, 1000)\n",
    "rad"
   ]
  },
  {
   "cell_type": "markdown",
   "id": "22b71ecd-a48f-47a5-8fb3-c53384a557b6",
   "metadata": {},
   "source": [
    "Utilizar np.sin y np.cos para obtener los valores de seno y coseno en los puntos del array anterior "
   ]
  },
  {
   "cell_type": "code",
   "execution_count": 26,
   "id": "691abc23-2c53-4e71-8feb-899e067166d9",
   "metadata": {},
   "outputs": [],
   "source": [
    "seno = np.sin(rad)\n",
    "coseno = np.cos(rad)"
   ]
  },
  {
   "cell_type": "markdown",
   "id": "bc933a1f-5f84-4e0e-bfa9-13d682e74779",
   "metadata": {},
   "source": [
    "Utilizar plt.plot para graficar un círculo con los datos de seno y coseno"
   ]
  },
  {
   "cell_type": "code",
   "execution_count": 27,
   "id": "67c506aa-ba33-4658-ab11-295539ffdad2",
   "metadata": {},
   "outputs": [
    {
     "data": {
      "image/png": "[encoded data removed]",
      "text/plain": [
       "<Figure size 640x480 with 1 Axes>"
      ]
     },
     "metadata": {},
     "output_type": "display_data"
    }
   ],
   "source": [
    "plt.plot(seno, coseno)\n",
    "plt.show()"
   ]
  },
  {
   "cell_type": "markdown",
   "id": "155bbcd6-88d5-4cdc-9a05-c50f26f5187f",
   "metadata": {},
   "source": [
    "__Ejercicio 11:__"
   ]
  },
  {
   "cell_type": "markdown",
   "id": "c0b81a7c-aa51-4400-9527-130a5bbcc8d5",
   "metadata": {},
   "source": [
    "Utilizar plt.plot para graficar los valores de seno y coseno por separado"
   ]
  },
  {
   "cell_type": "code",
   "execution_count": 28,
   "id": "6e91a06c-c9ec-4600-a220-1c3e75668def",
   "metadata": {},
   "outputs": [
    {
     "data": {
      "image/png": "[encoded data removed]",
      "text/plain": [
       "<Figure size 640x480 with 1 Axes>"
      ]
     },
     "metadata": {},
     "output_type": "display_data"
    }
   ],
   "source": [
    "plt.plot(seno)\n",
    "plt.plot(coseno)\n",
    "plt.show()"
   ]
  },
  {
   "cell_type": "markdown",
   "id": "8bd317ad-9cae-4dff-a928-726ebda177bf",
   "metadata": {},
   "source": [
    "__Ejercicio 12:__"
   ]
  },
  {
   "cell_type": "code",
   "execution_count": 29,
   "id": "e3319954-862f-4bdf-998e-d5f24781a40d",
   "metadata": {},
   "outputs": [
    {
     "name": "stdout",
     "output_type": "stream",
     "text": [
      "[10. 12. 14. 16. 18. 20.] [ 5.  9. 13. 17. 21. 25.]\n"
     ]
    }
   ],
   "source": [
    "a= np.linspace(10,20,6)\n",
    "b= np.linspace(5,25,6)\n",
    "print(a,b)"
   ]
  },
  {
   "cell_type": "markdown",
   "id": "03a56414-a7b0-4dff-a351-11af200156ee",
   "metadata": {},
   "source": [
    "Sumar los valores de los ndarray \"a\" y \"b\""
   ]
  },
  {
   "cell_type": "code",
   "execution_count": 30,
   "id": "98e5e936-d60c-4d71-a750-2f9a2f8d21bf",
   "metadata": {},
   "outputs": [
    {
     "data": {
      "text/plain": [
       "array([15., 21., 27., 33., 39., 45.])"
      ]
     },
     "execution_count": 30,
     "metadata": {},
     "output_type": "execute_result"
    }
   ],
   "source": [
    "a+b"
   ]
  },
  {
   "cell_type": "markdown",
   "id": "fc20ad08-c098-4593-8b9c-dbcd87937c56",
   "metadata": {},
   "source": [
    "Unir los ndarray \"a\" y \"b\", guardarlo en la variable c"
   ]
  },
  {
   "cell_type": "code",
   "execution_count": 31,
   "id": "eac3bddb-1e5e-4357-9bc6-61637c2c6d26",
   "metadata": {},
   "outputs": [
    {
     "data": {
      "text/plain": [
       "array([10., 12., 14., 16., 18., 20.,  5.,  9., 13., 17., 21., 25.])"
      ]
     },
     "execution_count": 31,
     "metadata": {},
     "output_type": "execute_result"
    }
   ],
   "source": [
    "c = np.concatenate((a, b))\n",
    "c"
   ]
  },
  {
   "cell_type": "markdown",
   "id": "378dd0d9-1363-4dfb-ba87-674921eb979e",
   "metadata": {},
   "source": [
    "Ordenar los valores del ndarray c"
   ]
  },
  {
   "cell_type": "code",
   "execution_count": 32,
   "id": "5dc18067-228d-4596-b481-32f2bfd1c21e",
   "metadata": {},
   "outputs": [
    {
     "data": {
      "text/plain": [
       "array([ 5.,  9., 10., 12., 13., 14., 16., 17., 18., 20., 21., 25.])"
      ]
     },
     "execution_count": 32,
     "metadata": {},
     "output_type": "execute_result"
    }
   ],
   "source": [
    "c.sort()\n",
    "c"
   ]
  },
  {
   "cell_type": "markdown",
   "id": "7b311d70-aedb-42c5-a1d6-690d0a9919b3",
   "metadata": {},
   "source": [
    "__Ejercicio 13:__"
   ]
  },
  {
   "cell_type": "markdown",
   "id": "4965dab5-9b59-40b7-8246-4cf089550b74",
   "metadata": {},
   "source": [
    "Utilizar rg.random para generar un ndarray de 1000 números aleatorios entre el 0 y 1"
   ]
  },
  {
   "cell_type": "code",
   "execution_count": 33,
   "id": "336bd3a7-b45d-4a1e-bcce-74910ec6b328",
   "metadata": {},
   "outputs": [
    {
     "name": "stdout",
     "output_type": "stream",
     "text": [
      "[0.26161213 0.29849114 0.81422574 0.09191594 0.60010053 0.72856053\n",
      " 0.18790107 0.05514663 0.27496937 0.65743301 0.56226566 0.15006226\n",
      " 0.43263079 0.6692973  0.42278467 0.6331844  0.96743595 0.68306482\n",
      " 0.39162483 0.18725257 0.34596067 0.51106597 0.89120941 0.77556394\n",
      " 0.3181466  0.9242169  0.47090989 0.69375884 0.10720731 0.10454356\n",
      " 0.20190745 0.88444967 0.67981146 0.84923632 0.64443627 0.4065424\n",
      " 0.51657819 0.59344352 0.86211798 0.43818617 0.89224011 0.61371694\n",
      " 0.82935613 0.49805605 0.69251813 0.33902537 0.5228285  0.21622339\n",
      " 0.1007036  0.03860413 0.70194948 0.45643062 0.89773415 0.8351832\n",
      " 0.38509513 0.97367877 0.59206201 0.76588331 0.40719436 0.19616991\n",
      " 0.17177702 0.18120623 0.60380552 0.11263286 0.01991075 0.83299696\n",
      " 0.09941112 0.45058454 0.48849857 0.62027241 0.50401448 0.93734314\n",
      " 0.75039659 0.5744665  0.61727214 0.50655149 0.96476181 0.22662606\n",
      " 0.68902714 0.55509668 0.04201179 0.29615    0.92716694 0.78456486\n",
      " 0.01283109 0.29662633 0.00980535 0.82746694 0.11036759 0.05745518\n",
      " 0.98188334 0.44586988 0.318393   0.04901339 0.38959528 0.36603906\n",
      " 0.52348079 0.00678547 0.14796288 0.20988653 0.44050452 0.30230337\n",
      " 0.61332768 0.28543261 0.90963301 0.96186996 0.05943487 0.20905972\n",
      " 0.56302318 0.77066023 0.06402423 0.18480268 0.45672012 0.66869076\n",
      " 0.90332793 0.86697296 0.79375542 0.05273214 0.97663649 0.61462795\n",
      " 0.08611582 0.25492878 0.62075408 0.38564012 0.44660348 0.80458507\n",
      " 0.82403098 0.54678698 0.7924511  0.40600493 0.97448184 0.60515917\n",
      " 0.96769798 0.04398769 0.88269265 0.55937719 0.71363903 0.19259498\n",
      " 0.54869138 0.28927792 0.10548048 0.00318677 0.90684002 0.67090432\n",
      " 0.20502173 0.25781868 0.46559431 0.81828725 0.1176256  0.96778483\n",
      " 0.94391077 0.2446601  0.64078186 0.36009753 0.69732334 0.0869161\n",
      " 0.46996588 0.5884908  0.62647574 0.69279547 0.89138137 0.24125021\n",
      " 0.15319432 0.39060694 0.56882815 0.96052876 0.71050559 0.73844255\n",
      " 0.97271705 0.26774316 0.25946163 0.42254084 0.29542001 0.65110339\n",
      " 0.95171392 0.15351149 0.51794768 0.6775781  0.49317767 0.91374384\n",
      " 0.73689799 0.8821768  0.11176499 0.1957635  0.06570423 0.8293195\n",
      " 0.96281866 0.01399102 0.78925364 0.7278312  0.90818679 0.27038547\n",
      " 0.71477718 0.23742288 0.0760332  0.74520406 0.04221297 0.69959446\n",
      " 0.28346246 0.4874234  0.89153315 0.24340788 0.46832438 0.35504945\n",
      " 0.19038089 0.47365147 0.18163033 0.79900749 0.61482164 0.28313075\n",
      " 0.973105   0.34527684 0.67125666 0.73322373 0.26522639 0.0117638\n",
      " 0.89261588 0.95641651 0.17022808 0.15360521 0.43266742 0.59756957\n",
      " 0.98898263 0.96349612 0.98785284 0.24556942 0.5988832  0.43586914\n",
      " 0.2314023  0.06537737 0.16872837 0.35845173 0.08802173 0.15073899\n",
      " 0.04465149 0.62290627 0.49271648 0.243553   0.52634874 0.42444678\n",
      " 0.65915322 0.93266722 0.35329211 0.64515153 0.21891674 0.9398994\n",
      " 0.61769248 0.15874744 0.25705106 0.15915136 0.17913403 0.30679886\n",
      " 0.82307044 0.4570588  0.27716997 0.41907586 0.26739823 0.73368242\n",
      " 0.05878125 0.28922856 0.32324609 0.18151952 0.73815578 0.18024736\n",
      " 0.30048134 0.05647656 0.75558564 0.36386302 0.65592839 0.2172361\n",
      " 0.02180019 0.32241816 0.77906385 0.83744578 0.34883976 0.84694078\n",
      " 0.05034893 0.52211454 0.25742242 0.43907769 0.22164182 0.89356662\n",
      " 0.30217467 0.94529193 0.10909018 0.42983101 0.44344493 0.70943479\n",
      " 0.34502227 0.49249496 0.07044906 0.31103146 0.72498432 0.10591139\n",
      " 0.46253567 0.23672695 0.1654845  0.12131551 0.81386593 0.68665702\n",
      " 0.3794561  0.39164094 0.72845748 0.60395615 0.91601526 0.91941369\n",
      " 0.4821747  0.65913526 0.54466771 0.31028554 0.45351342 0.72117586\n",
      " 0.55268215 0.63240637 0.4870733  0.95297764 0.77646145 0.13078503\n",
      " 0.81410951 0.91757758 0.81665819 0.34310825 0.367909   0.24321437\n",
      " 0.05570471 0.47206135 0.85048018 0.76881159 0.6621989  0.84719067\n",
      " 0.65911387 0.22333342 0.80315508 0.36752    0.89006197 0.32648253\n",
      " 0.09190195 0.7298982  0.10764675 0.87021443 0.41192355 0.7801212\n",
      " 0.05256846 0.54383776 0.67689404 0.12950513 0.60839782 0.14302262\n",
      " 0.30398913 0.36528521 0.61958537 0.13011884 0.18482566 0.78125659\n",
      " 0.71587564 0.45420567 0.28200302 0.69220464 0.4678444  0.31151967\n",
      " 0.87468323 0.20184032 0.80428285 0.61781791 0.64598013 0.68215245\n",
      " 0.74827104 0.8809471  0.92058385 0.25548905 0.1638862  0.89637408\n",
      " 0.20382929 0.22196494 0.80525699 0.96611059 0.84454535 0.51673039\n",
      " 0.37560037 0.98855173 0.73606888 0.62909352 0.01112877 0.19519178\n",
      " 0.01349177 0.90704041 0.23646561 0.17102131 0.58256772 0.20310186\n",
      " 0.54653209 0.9497917  0.86390869 0.24512753 0.91617764 0.39939044\n",
      " 0.52303708 0.32497268 0.99995809 0.30707346 0.737276   0.61989604\n",
      " 0.68892332 0.10400655 0.53678881 0.99704736 0.56314343 0.19679411\n",
      " 0.05257312 0.32995251 0.74561653 0.02481358 0.04863821 0.65700802\n",
      " 0.88186714 0.43874838 0.62430676 0.25726181 0.27256318 0.47497741\n",
      " 0.21906648 0.45387996 0.14838181 0.92397493 0.64795107 0.09418871\n",
      " 0.19310735 0.82915273 0.37240304 0.26010407 0.02331807 0.67521685\n",
      " 0.57033139 0.84039444 0.16973045 0.75229518 0.82706877 0.82412116\n",
      " 0.74636475 0.44236588 0.04740683 0.64428142 0.02569125 0.08584249\n",
      " 0.4091233  0.12077795 0.45198276 0.8510432  0.17415722 0.79815495\n",
      " 0.99756073 0.037283   0.42314941 0.70754131 0.73168353 0.27990975\n",
      " 0.80902173 0.37128152 0.20075243 0.51783179 0.61247725 0.83773825\n",
      " 0.66398121 0.08311997 0.57485685 0.34414603 0.70504238 0.04506066\n",
      " 0.65735746 0.79157132 0.0401567  0.01536072 0.89189148 0.89542364\n",
      " 0.17658518 0.92245198 0.40661635 0.5190463  0.47087198 0.33500287\n",
      " 0.88424856 0.61057621 0.93247209 0.62207593 0.92485838 0.5152196\n",
      " 0.47489401 0.57131101 0.00591919 0.76764455 0.13961698 0.94396252\n",
      " 0.04429511 0.7081858  0.76858554 0.54163768 0.09575644 0.81150338\n",
      " 0.32121682 0.28797286 0.69238515 0.97182871 0.09614731 0.43627545\n",
      " 0.67334389 0.2769218  0.92499474 0.6027983  0.0756099  0.15476542\n",
      " 0.14325491 0.45600458 0.91025897 0.11228428 0.15129167 0.21172574\n",
      " 0.57309136 0.43021384 0.41830465 0.144937   0.82428303 0.47944939\n",
      " 0.86572777 0.03011478 0.45770009 0.3684166  0.84131338 0.69214217\n",
      " 0.52092413 0.16124838 0.68259365 0.89597382 0.77662201 0.96711665\n",
      " 0.59131801 0.3137366  0.22100306 0.79934162 0.81183764 0.63473214\n",
      " 0.78207289 0.4859756  0.85153847 0.69469176 0.24195175 0.587547\n",
      " 0.65613946 0.20283872 0.93577899 0.80555036 0.14526105 0.21989445\n",
      " 0.0021272  0.9394023  0.17436271 0.83381308 0.51160446 0.05711615\n",
      " 0.21142548 0.25771204 0.76435562 0.36764731 0.14193928 0.94634387\n",
      " 0.51451938 0.0665885  0.97299941 0.67532809 0.44104229 0.14572561\n",
      " 0.69336859 0.09698163 0.93923895 0.75150755 0.71313401 0.770281\n",
      " 0.86378313 0.4689278  0.81151346 0.11017816 0.70036622 0.75115026\n",
      " 0.21138699 0.11133799 0.91681299 0.89151201 0.10992255 0.58934796\n",
      " 0.18078792 0.20470232 0.92919233 0.6627969  0.7584632  0.28213424\n",
      " 0.77581363 0.66935946 0.34626693 0.49623646 0.24907852 0.59450206\n",
      " 0.18694388 0.44866577 0.85532659 0.65784283 0.60224058 0.1119182\n",
      " 0.82168075 0.61953581 0.94839913 0.93377553 0.93179895 0.53442176\n",
      " 0.76969508 0.10163128 0.04474598 0.78629822 0.67325024 0.94701235\n",
      " 0.30439726 0.49499616 0.78672871 0.60897904 0.84850315 0.39472534\n",
      " 0.84516247 0.86129733 0.90298399 0.39794645 0.90827594 0.30910327\n",
      " 0.5939051  0.97993049 0.64448812 0.59241674 0.36098745 0.51360948\n",
      " 0.49059894 0.67758551 0.53984254 0.31843589 0.19081465 0.98732843\n",
      " 0.61934903 0.17313969 0.33795313 0.65016206 0.23861847 0.8953391\n",
      " 0.54052343 0.68086001 0.66350032 0.16174409 0.9321474  0.84578276\n",
      " 0.14598698 0.56956286 0.5279328  0.30958655 0.3752215  0.25919392\n",
      " 0.63134325 0.42862469 0.10042342 0.22717449 0.15154658 0.6294987\n",
      " 0.55420062 0.39253385 0.54715822 0.62880705 0.21650102 0.05562417\n",
      " 0.96215879 0.18551305 0.24193546 0.70420057 0.98581611 0.12358773\n",
      " 0.40240606 0.85582478 0.08491591 0.25033644 0.61371778 0.82923206\n",
      " 0.10263636 0.41635547 0.59213171 0.54705089 0.53554141 0.99301659\n",
      " 0.98411915 0.21030714 0.25564014 0.40004198 0.10096844 0.14637315\n",
      " 0.56501523 0.9869442  0.29378302 0.19845887 0.61651994 0.29750548\n",
      " 0.01359419 0.09370409 0.87775262 0.10872602 0.64141413 0.41871556\n",
      " 0.76948405 0.50913604 0.23089804 0.21116944 0.23524108 0.23371029\n",
      " 0.25082029 0.29936638 0.59811942 0.52777106 0.06871761 0.42072396\n",
      " 0.92998013 0.93959585 0.31967223 0.15554033 0.29276942 0.13267831\n",
      " 0.25856908 0.92479562 0.87708237 0.45226507 0.5497937  0.70061621\n",
      " 0.70132227 0.69365893 0.73606297 0.5909845  0.13294688 0.68692783\n",
      " 0.66894323 0.16234668 0.19496082 0.63657494 0.38583867 0.81082634\n",
      " 0.27719726 0.66617906 0.61488419 0.11056069 0.27843425 0.35345639\n",
      " 0.30194219 0.09099549 0.23550291 0.53721973 0.22607817 0.63579054\n",
      " 0.41503913 0.45636295 0.20697351 0.78651879 0.07745509 0.94440349\n",
      " 0.58934317 0.94425135 0.5492193  0.35159908 0.36985564 0.92930105\n",
      " 0.52087061 0.39438049 0.15598451 0.15174028 0.4159864  0.45203882\n",
      " 0.80422819 0.1216879  0.45411715 0.13300579 0.2539561  0.49312825\n",
      " 0.87691588 0.13230636 0.17424819 0.70619961 0.52721846 0.087695\n",
      " 0.68100361 0.95834903 0.73825487 0.9964816  0.74279154 0.3289304\n",
      " 0.80034595 0.56787535 0.09133995 0.36243271 0.9462756  0.65492738\n",
      " 0.36991639 0.70850435 0.68315782 0.15832343 0.46072496 0.80586212\n",
      " 0.11635039 0.54763839 0.11886073 0.2748959  0.7664542  0.3576982\n",
      " 0.82241602 0.72611174 0.63568696 0.1503833  0.45219568 0.87827864\n",
      " 0.63267066 0.06868851 0.5020887  0.46688802 0.48721682 0.41454647\n",
      " 0.81367542 0.53227498 0.85831323 0.95351183 0.895208   0.76981454\n",
      " 0.02147006 0.00177836 0.17154903 0.51715473 0.29937142 0.1322176\n",
      " 0.92680632 0.42984618 0.19876075 0.51155671 0.98164917 0.72294483\n",
      " 0.92461748 0.11612272 0.74103998 0.33755783 0.36019266 0.45678005\n",
      " 0.46275665 0.79093517 0.29575051 0.46146589 0.43313903 0.62254965\n",
      " 0.5585949  0.04740737 0.85397489 0.64256909 0.15212173 0.49579331\n",
      " 0.90028886 0.88276535 0.40365408 0.2382463  0.95181841 0.73519472\n",
      " 0.66333272 0.40889652 0.86521375 0.19289379 0.82802054 0.80025525\n",
      " 0.52225306 0.3639548  0.68624492 0.38830638 0.41360367 0.26964155\n",
      " 0.78326828 0.15382401 0.4950853  0.44201682 0.98606868 0.11027778\n",
      " 0.56549225 0.22175259 0.95042397 0.12571714 0.9163971  0.64561621\n",
      " 0.19077339 0.41446536 0.2757438  0.47744453 0.82471407 0.48091166\n",
      " 0.98513651 0.91160761 0.21626896 0.1326575  0.68394761 0.35990371\n",
      " 0.26540484 0.92549658 0.57841146 0.26855311 0.56333748 0.55038301\n",
      " 0.79926246 0.41226899 0.50416439 0.15219385 0.8487494  0.9192292\n",
      " 0.00214704 0.75543213 0.973171   0.85903306 0.79949204 0.2153267\n",
      " 0.99076444 0.37323376 0.85775385 0.7783426  0.60671695 0.9649848\n",
      " 0.95737623 0.44370039 0.47245969 0.90305327 0.45135175 0.8689432\n",
      " 0.22692452 0.25245973 0.38753314 0.30885314 0.45316705 0.2215557\n",
      " 0.16398265 0.38067023 0.17772138 0.3432666  0.39672897 0.9420742\n",
      " 0.41695678 0.59084393 0.92405279 0.44420321 0.27553312 0.56724901\n",
      " 0.82470659 0.28400078 0.73733227 0.48127851 0.52816772 0.644314\n",
      " 0.46781092 0.1862254  0.23138241 0.04836611 0.88172958 0.6517751\n",
      " 0.93894598 0.31762257 0.55897519 0.57045233 0.13952009 0.55569569\n",
      " 0.60553346 0.4316789  0.34920036 0.23630718 0.07699087 0.59871844\n",
      " 0.19644018 0.08057523 0.98344255 0.8902411  0.36113692 0.47101246\n",
      " 0.2046988  0.98639626 0.30079772 0.83557173 0.74744073 0.01679759\n",
      " 0.0373027  0.44008969 0.03064513 0.91833795 0.97035205 0.61271034\n",
      " 0.30587525 0.21294377 0.13591121 0.56687434 0.15733404 0.21963747\n",
      " 0.71950734 0.86910493 0.63325264 0.95613918]\n"
     ]
    }
   ],
   "source": [
    "rg = np.random.default_rng(2) # Semilla para la generacion\n",
    "rand = rg.random(1000) # Cantidad de numeros 1000\n",
    "print(rand)"
   ]
  },
  {
   "cell_type": "code",
   "execution_count": 34,
   "id": "b91eda2e-1ae1-44fe-845d-f38fa71da28e",
   "metadata": {},
   "outputs": [
    {
     "data": {
      "image/png": "[encoded data removed]",
      "text/plain": [
       "<Figure size 640x480 with 1 Axes>"
      ]
     },
     "metadata": {},
     "output_type": "display_data"
    }
   ],
   "source": [
    "plt.hist(rand, bins=100)\n",
    "plt.show()"
   ]
  },
  {
   "cell_type": "markdown",
   "id": "93474f2c-03ed-4c5e-8eaf-58503cf1476e",
   "metadata": {},
   "source": [
    "__Ejercicio 14:__"
   ]
  },
  {
   "cell_type": "markdown",
   "id": "ce6d972e-370e-4c20-aa5f-da7842f765a9",
   "metadata": {},
   "source": [
    "Utilizar rg.normal para generar 100000 valores aleatorios que sigan una distribución normal"
   ]
  },
  {
   "cell_type": "code",
   "execution_count": 35,
   "id": "f6cd3814-1cf1-47cf-98be-2dac3bcd3573",
   "metadata": {},
   "outputs": [
    {
     "data": {
      "text/plain": [
       "array([13.51638928, 14.60947682,  6.23501862, ...,  3.56636798,\n",
       "        8.66660197, 12.61968552])"
      ]
     },
     "execution_count": 35,
     "metadata": {},
     "output_type": "execute_result"
    }
   ],
   "source": [
    "normal = rg.normal(10, 5, 100000)\n",
    "normal"
   ]
  },
  {
   "cell_type": "code",
   "execution_count": 36,
   "id": "6aefe781-fce0-475e-b583-09642e942696",
   "metadata": {},
   "outputs": [
    {
     "data": {
      "image/png": "[encoded data removed]",
      "text/plain": [
       "<Figure size 640x480 with 1 Axes>"
      ]
     },
     "metadata": {},
     "output_type": "display_data"
    }
   ],
   "source": [
    "plt.hist(normal, bins = 1000)\n",
    "plt.show()"
   ]
  },
  {
   "cell_type": "markdown",
   "id": "1159dfcb-d59b-48f4-89b6-a1b5778595a0",
   "metadata": {},
   "source": [
    "__Ejercicio 15:__"
   ]
  },
  {
   "cell_type": "markdown",
   "id": "55d97f65-d5b4-4a8d-90c9-d6ef6759c209",
   "metadata": {},
   "source": [
    "Utilizar rg.integers para generar 2000 números aleatorios enteros entre el 0 y el 19"
   ]
  },
  {
   "cell_type": "code",
   "execution_count": 37,
   "id": "545685a7-641e-412c-a0e4-568654ce2220",
   "metadata": {},
   "outputs": [],
   "source": [
    "enteros = rg.integers(20, size=2000)"
   ]
  },
  {
   "cell_type": "code",
   "execution_count": 38,
   "id": "87b4f720-2e82-41ae-85e6-2ca3e70eeecd",
   "metadata": {},
   "outputs": [
    {
     "data": {
      "image/png": "[encoded data removed]",
      "text/plain": [
       "<Figure size 640x480 with 1 Axes>"
      ]
     },
     "metadata": {},
     "output_type": "display_data"
    }
   ],
   "source": [
    "plt.hist(enteros, bins = 100)\n",
    "plt.show()"
   ]
  },
  {
   "cell_type": "code",
   "execution_count": 39,
   "id": "8fd03ef3-875a-44ba-914c-26e57cd4dcba",
   "metadata": {},
   "outputs": [
    {
     "data": {
      "text/plain": [
       "(array([ 0,  1,  2,  3,  4,  5,  6,  7,  8,  9, 10, 11, 12, 13, 14, 15, 16,\n",
       "        17, 18, 19]),\n",
       " array([104, 101, 105, 103,  99,  99, 108, 102,  96,  96,  93,  78, 112,\n",
       "         95,  93, 105,  98, 111, 105,  97]))"
      ]
     },
     "execution_count": 39,
     "metadata": {},
     "output_type": "execute_result"
    }
   ],
   "source": [
    "np.unique(enteros, return_counts=True) #Comprobar que los valores son muy similares"
   ]
  },
  {
   "cell_type": "markdown",
   "id": "3324d3f5-a77a-42c0-ba7e-25313e43bb58",
   "metadata": {},
   "source": [
    "__Ejercicio 16:__"
   ]
  },
  {
   "cell_type": "markdown",
   "id": "d907b4dc-301e-4b21-bde5-4dd96fdcd076",
   "metadata": {},
   "source": [
    "Utilizar rg.choice para elegir 10 números aleatorios SIN REPETIR entre el 0 y el 25"
   ]
  },
  {
   "cell_type": "code",
   "execution_count": 40,
   "id": "7ec02ffd-eef3-4e3e-b2e9-59450b94d3bd",
   "metadata": {},
   "outputs": [
    {
     "data": {
      "text/plain": [
       "array([ 0,  7,  1, 13, 20,  9,  8, 11, 18,  4])"
      ]
     },
     "execution_count": 40,
     "metadata": {},
     "output_type": "execute_result"
    }
   ],
   "source": [
    "rg.choice(26, size=10, replace=False)"
   ]
  },
  {
   "cell_type": "markdown",
   "id": "385775b3-86a0-4715-908b-dfa75dca95f2",
   "metadata": {},
   "source": [
    "__Ejercicio 17:__"
   ]
  },
  {
   "cell_type": "code",
   "execution_count": 41,
   "id": "76b0c5a0-5b28-48fe-9485-baad8cf663c6",
   "metadata": {},
   "outputs": [
    {
     "data": {
      "text/plain": [
       "array([ 4, 11,  8,  8,  8, 17,  9, 16])"
      ]
     },
     "execution_count": 41,
     "metadata": {},
     "output_type": "execute_result"
    }
   ],
   "source": [
    "estadisticos = rg.integers(20,size=8)\n",
    "estadisticos"
   ]
  },
  {
   "cell_type": "markdown",
   "id": "012b5e04-220e-433c-b0ec-b21aa9d326cf",
   "metadata": {},
   "source": [
    "Utilizar la función min() para obtener el valor mínimo en el ndarray \"estadisticos\""
   ]
  },
  {
   "cell_type": "code",
   "execution_count": 42,
   "id": "e4a38410-43ac-4c7c-92bd-c3d65c0b5432",
   "metadata": {},
   "outputs": [
    {
     "data": {
      "text/plain": [
       "4"
      ]
     },
     "execution_count": 42,
     "metadata": {},
     "output_type": "execute_result"
    }
   ],
   "source": [
    "estadisticos.min()"
   ]
  },
  {
   "cell_type": "markdown",
   "id": "117dddae-3654-43cf-9e8d-54e783a674cb",
   "metadata": {},
   "source": [
    "Utilizar la función max() para obtener el valor máximo en el ndarray \"estadisticos\""
   ]
  },
  {
   "cell_type": "code",
   "execution_count": 43,
   "id": "abaf6bb5-c24d-4607-b7e2-f6fafde47d97",
   "metadata": {},
   "outputs": [
    {
     "data": {
      "text/plain": [
       "17"
      ]
     },
     "execution_count": 43,
     "metadata": {},
     "output_type": "execute_result"
    }
   ],
   "source": [
    "estadisticos.max()"
   ]
  },
  {
   "cell_type": "markdown",
   "id": "fd88688f-2bc0-4c5d-bcd2-af6fe9e99411",
   "metadata": {},
   "source": [
    "Utilizar la función mean() para obtener el valor promedio en el ndarray \"estadisticos\""
   ]
  },
  {
   "cell_type": "code",
   "execution_count": 44,
   "id": "3b38b3b3-2245-4731-af11-7e19474af1cc",
   "metadata": {},
   "outputs": [
    {
     "data": {
      "text/plain": [
       "10.125"
      ]
     },
     "execution_count": 44,
     "metadata": {},
     "output_type": "execute_result"
    }
   ],
   "source": [
    "estadisticos.mean()"
   ]
  },
  {
   "cell_type": "markdown",
   "id": "e0ef2fef-cad0-4579-a8ce-b298b42fb330",
   "metadata": {},
   "source": [
    "Utilizar la función std() para obtener el valor de la desviación estandar en el ndarray \"estadisticos\""
   ]
  },
  {
   "cell_type": "code",
   "execution_count": 45,
   "id": "77c908c4-d007-4baa-801a-314aab7b2369",
   "metadata": {},
   "outputs": [
    {
     "data": {
      "text/plain": [
       "4.106016926414211"
      ]
     },
     "execution_count": 45,
     "metadata": {},
     "output_type": "execute_result"
    }
   ],
   "source": [
    "estadisticos.std()"
   ]
  },
  {
   "cell_type": "markdown",
   "id": "979aded7-3aa6-4248-b2f6-ea271c5f6e79",
   "metadata": {},
   "source": [
    "Utilizar la función sum() para obtener el valor al sumar todos los números en el ndarray \"estadisticos\""
   ]
  },
  {
   "cell_type": "code",
   "execution_count": 46,
   "id": "ee48bd78-1b9b-4c32-b270-62f6f20a1c63",
   "metadata": {},
   "outputs": [
    {
     "data": {
      "text/plain": [
       "81"
      ]
     },
     "execution_count": 46,
     "metadata": {},
     "output_type": "execute_result"
    }
   ],
   "source": [
    "estadisticos.sum()"
   ]
  },
  {
   "cell_type": "markdown",
   "id": "b8a7f523-541e-4ffc-9090-f6a18f852ef2",
   "metadata": {},
   "source": [
    "__Ejercicio 18:__"
   ]
  },
  {
   "cell_type": "code",
   "execution_count": 47,
   "id": "acb73618-214c-4fcb-b022-1a97e618f4b1",
   "metadata": {},
   "outputs": [
    {
     "data": {
      "text/plain": [
       "array([[ 6,  8, 11,  8],\n",
       "       [13, 14,  0,  0],\n",
       "       [ 8, 17, 17, 10],\n",
       "       [ 5, 10,  1,  2],\n",
       "       [18, 16, 14,  2]])"
      ]
     },
     "execution_count": 47,
     "metadata": {},
     "output_type": "execute_result"
    }
   ],
   "source": [
    "estadisticos_2d = rg.integers(20,size=(5,4))\n",
    "estadisticos_2d"
   ]
  },
  {
   "cell_type": "markdown",
   "id": "88696800-dfdf-4b5f-bf3b-8412b1a84e19",
   "metadata": {},
   "source": [
    "Utilizar la función min() para obtener el valor mínimo de cada columna en el ndarray \"estadisticos_2d\""
   ]
  },
  {
   "cell_type": "code",
   "execution_count": 52,
   "id": "fdc54d32-3db7-4e6c-a9ef-b87680bcc1fd",
   "metadata": {},
   "outputs": [
    {
     "data": {
      "text/plain": [
       "array([5, 8, 0, 0])"
      ]
     },
     "execution_count": 52,
     "metadata": {},
     "output_type": "execute_result"
    }
   ],
   "source": [
    "estadisticos_2d.min(axis=0)"
   ]
  },
  {
   "cell_type": "markdown",
   "id": "7e18ef29-8d28-41ee-b42a-c5788b7179a5",
   "metadata": {},
   "source": [
    "Utilizar la función max() para obtener el valor mínimo de cada fila en el ndarray \"estadisticos_2d\""
   ]
  },
  {
   "cell_type": "code",
   "execution_count": 53,
   "id": "86f54bac-4399-46d6-8a11-866cab776aa0",
   "metadata": {},
   "outputs": [
    {
     "data": {
      "text/plain": [
       "array([11, 14, 17, 10, 18])"
      ]
     },
     "execution_count": 53,
     "metadata": {},
     "output_type": "execute_result"
    }
   ],
   "source": [
    "estadisticos_2d.max(axis=1)"
   ]
  },
  {
   "cell_type": "markdown",
   "id": "e1fa802b-7974-471d-a02a-7e17a6ab7ae4",
   "metadata": {},
   "source": [
    "__Ejercicio 19:__"
   ]
  },
  {
   "cell_type": "code",
   "execution_count": 48,
   "id": "ae7128dd-fdb9-49e7-a68f-b89aa5e7eb6d",
   "metadata": {},
   "outputs": [
    {
     "data": {
      "text/plain": [
       "array([[ 6,  8, 11,  8],\n",
       "       [13, 14,  0,  0],\n",
       "       [ 8, 17, 17, 10],\n",
       "       [ 5, 10,  1,  2],\n",
       "       [18, 16, 14,  2]])"
      ]
     },
     "execution_count": 48,
     "metadata": {},
     "output_type": "execute_result"
    }
   ],
   "source": [
    "estadisticos_2d"
   ]
  },
  {
   "cell_type": "markdown",
   "id": "28e17497-4e11-4fad-9cf5-727078caf77e",
   "metadata": {},
   "source": [
    "Obtener los valores menores a 12 en el ndarray \"estadisticos_2d\""
   ]
  },
  {
   "cell_type": "code",
   "execution_count": 54,
   "id": "65137100-5cbc-4047-b8c7-bc9d20e0e3ca",
   "metadata": {},
   "outputs": [
    {
     "data": {
      "text/plain": [
       "array([[ True,  True,  True,  True],\n",
       "       [False, False,  True,  True],\n",
       "       [ True, False, False,  True],\n",
       "       [ True,  True,  True,  True],\n",
       "       [False, False, False,  True]])"
      ]
     },
     "execution_count": 54,
     "metadata": {},
     "output_type": "execute_result"
    }
   ],
   "source": [
    "estadisticos_2d < 12"
   ]
  },
  {
   "cell_type": "code",
   "execution_count": 56,
   "id": "5ff3cdc3-7b84-424f-8b1f-b7d9a8851d03",
   "metadata": {},
   "outputs": [
    {
     "data": {
      "text/plain": [
       "array([ 6,  8, 11,  8,  0,  0,  8, 10,  5, 10,  1,  2,  2])"
      ]
     },
     "execution_count": 56,
     "metadata": {},
     "output_type": "execute_result"
    }
   ],
   "source": [
    "# Para aplicar correctamente el filtro para los menores que 12\n",
    "estadisticos_2d[estadisticos_2d < 12]"
   ]
  },
  {
   "cell_type": "markdown",
   "id": "a6008ae4-8a10-4ff4-92f1-1f82b82c8b5a",
   "metadata": {},
   "source": [
    "__Ejercicio 20:__"
   ]
  },
  {
   "cell_type": "code",
   "execution_count": 49,
   "id": "25fdd4ed-5a3f-4a3b-8a08-486776700b92",
   "metadata": {},
   "outputs": [
    {
     "name": "stdout",
     "output_type": "stream",
     "text": [
      "[[19 19 15]\n",
      " [19 15 10]\n",
      " [15 16  5]] \n",
      "\n",
      " [[ 9 18 14]\n",
      " [ 7 19 17]\n",
      " [ 8 11  2]]\n"
     ]
    }
   ],
   "source": [
    "np1 = rg.integers(20,size=(3,3))\n",
    "np2 = rg.integers(20,size=(3,3))\n",
    "print(np1,\"\\n\\n\",np2)"
   ]
  },
  {
   "cell_type": "markdown",
   "id": "ad017f47-c974-4168-9c79-bd407cec5ef8",
   "metadata": {},
   "source": [
    "Utilizar np.vstack para unir los ndarray \"np1\" y \"np2\" verticalmente"
   ]
  },
  {
   "cell_type": "code",
   "execution_count": 57,
   "id": "c8b9b36b-7bfb-4027-91ea-626227546983",
   "metadata": {},
   "outputs": [
    {
     "data": {
      "text/plain": [
       "array([[19, 19, 15],\n",
       "       [19, 15, 10],\n",
       "       [15, 16,  5],\n",
       "       [ 9, 18, 14],\n",
       "       [ 7, 19, 17],\n",
       "       [ 8, 11,  2]])"
      ]
     },
     "execution_count": 57,
     "metadata": {},
     "output_type": "execute_result"
    }
   ],
   "source": [
    "np.vstack((np1, np2))"
   ]
  },
  {
   "cell_type": "markdown",
   "id": "66f8921c-45d8-4c7d-9430-999d5fa3c335",
   "metadata": {},
   "source": [
    "Utilizar np.vstack para unir los ndarray \"np1\" y \"np2\" horizontalmente"
   ]
  },
  {
   "cell_type": "code",
   "execution_count": 58,
   "id": "44fbc502-904a-461e-a74f-23d10bc37a12",
   "metadata": {},
   "outputs": [
    {
     "data": {
      "text/plain": [
       "array([[19, 19, 15,  9, 18, 14],\n",
       "       [19, 15, 10,  7, 19, 17],\n",
       "       [15, 16,  5,  8, 11,  2]])"
      ]
     },
     "execution_count": 58,
     "metadata": {},
     "output_type": "execute_result"
    }
   ],
   "source": [
    "np.hstack((np1, np2))"
   ]
  },
  {
   "cell_type": "markdown",
   "id": "a7eafbf0-968b-41cb-b966-c67bb42bf049",
   "metadata": {},
   "source": [
    "__Ejercicio 21:__"
   ]
  },
  {
   "cell_type": "code",
   "execution_count": 50,
   "id": "a929ea5f-6635-48f3-a32a-d6f5bea564f7",
   "metadata": {},
   "outputs": [
    {
     "data": {
      "text/plain": [
       "array([ 0, 14,  8, 19,  3,  4,  1,  8, 15, 15])"
      ]
     },
     "execution_count": 50,
     "metadata": {},
     "output_type": "execute_result"
    }
   ],
   "source": [
    "enteros = rg.integers(20,size=(10))\n",
    "enteros"
   ]
  },
  {
   "cell_type": "markdown",
   "id": "f07668c4-1d9a-46e9-8e6d-a80aaeb3961c",
   "metadata": {},
   "source": [
    "Seleccionar los primeros 6 valores del ndarray \"enteros\""
   ]
  },
  {
   "cell_type": "code",
   "execution_count": 59,
   "id": "62f98dce-8e1e-4749-86b4-e1bed5f44081",
   "metadata": {},
   "outputs": [
    {
     "data": {
      "text/plain": [
       "array([ 0, 14,  8, 19,  3,  4])"
      ]
     },
     "execution_count": 59,
     "metadata": {},
     "output_type": "execute_result"
    }
   ],
   "source": [
    "enteros[0:6]"
   ]
  },
  {
   "cell_type": "code",
   "execution_count": 63,
   "id": "46801c1b",
   "metadata": {},
   "outputs": [
    {
     "data": {
      "text/plain": [
       "array([ 0, 14,  8, 19,  3,  4])"
      ]
     },
     "execution_count": 63,
     "metadata": {},
     "output_type": "execute_result"
    }
   ],
   "source": [
    "enteros[:6]"
   ]
  },
  {
   "cell_type": "markdown",
   "id": "7c243a71-e44a-4467-9621-0da26997e335",
   "metadata": {},
   "source": [
    "Seleccionar los valores en la posición 0,2 y 4 del ndarray \"enteros\""
   ]
  },
  {
   "cell_type": "code",
   "execution_count": 62,
   "id": "5e09e7ea-3ac8-48ba-8330-9b4213db98bb",
   "metadata": {},
   "outputs": [
    {
     "data": {
      "text/plain": [
       "array([0, 8, 3])"
      ]
     },
     "execution_count": 62,
     "metadata": {},
     "output_type": "execute_result"
    }
   ],
   "source": [
    "enteros[0:6:2]"
   ]
  },
  {
   "cell_type": "markdown",
   "id": "6178664b-de22-41cb-a499-53d704784b94",
   "metadata": {},
   "source": [
    "Seleccionar todos los valores con un indice par en el ndarray \"enteros\" (0,2,4,...)"
   ]
  },
  {
   "cell_type": "code",
   "execution_count": null,
   "id": "11169abe-382b-4b5f-8332-371f3edabcfc",
   "metadata": {},
   "outputs": [],
   "source": [
    "enteros[::2] # Va a ir de dos en dos hasta el final"
   ]
  },
  {
   "cell_type": "markdown",
   "id": "fd2d863b-c2cf-4de4-bcdc-59fdfb9170a5",
   "metadata": {},
   "source": [
    "__Ejercicio 22:__"
   ]
  },
  {
   "cell_type": "code",
   "execution_count": 51,
   "id": "6c5257e2-4553-48a6-a8f2-765c128d18c3",
   "metadata": {},
   "outputs": [
    {
     "data": {
      "text/plain": [
       "array([[ 4,  3,  8,  8, 12],\n",
       "       [ 8, 19,  8, 19,  5],\n",
       "       [ 2, 13,  0,  4, 10],\n",
       "       [ 6, 10,  9,  0,  4],\n",
       "       [ 2, 18, 15,  1,  8],\n",
       "       [17, 17, 16,  1, 15],\n",
       "       [ 1, 13,  4,  5,  5],\n",
       "       [16,  0,  4,  7,  3]])"
      ]
     },
     "execution_count": 51,
     "metadata": {},
     "output_type": "execute_result"
    }
   ],
   "source": [
    "enteros_2d = rg.integers(20,size=(8,5))\n",
    "enteros_2d"
   ]
  },
  {
   "cell_type": "markdown",
   "id": "37bc0a12-9c60-4973-a312-80804c150ada",
   "metadata": {},
   "source": [
    "Seleccionar el cuarto valor en el segundo array de \"enteros_2d\""
   ]
  },
  {
   "cell_type": "code",
   "execution_count": 67,
   "id": "b1647bbd-6a30-4d1b-a04e-2381da07d9d0",
   "metadata": {},
   "outputs": [
    {
     "data": {
      "text/plain": [
       "19"
      ]
     },
     "execution_count": 67,
     "metadata": {},
     "output_type": "execute_result"
    }
   ],
   "source": [
    "enteros_2d[1, 3] # enteros_2d[1][3]"
   ]
  },
  {
   "cell_type": "markdown",
   "id": "8735f0f9-4d36-4640-b47c-539587896e73",
   "metadata": {},
   "source": [
    "Seleccionar el segundo valor en los arrays con indice 3, 4 y 5 de \"enteros_2d\""
   ]
  },
  {
   "cell_type": "code",
   "execution_count": 70,
   "id": "40b2a7ad-eaea-425d-a8bc-058fba013c59",
   "metadata": {},
   "outputs": [
    {
     "data": {
      "text/plain": [
       "array([10, 18, 17])"
      ]
     },
     "execution_count": 70,
     "metadata": {},
     "output_type": "execute_result"
    }
   ],
   "source": [
    "enteros_2d[3:6,1]"
   ]
  },
  {
   "cell_type": "markdown",
   "id": "ed773fbb-8795-4e25-adb1-3952ab3be59f",
   "metadata": {},
   "source": [
    "Seleccionar los 2 primeros valores en los arrays con indice 4, 5 y 6 de \"enteros_2d\""
   ]
  },
  {
   "cell_type": "code",
   "execution_count": 71,
   "id": "730ceebe-04bc-46d1-a8a2-d98207d66afb",
   "metadata": {},
   "outputs": [
    {
     "data": {
      "text/plain": [
       "array([[ 2, 18],\n",
       "       [17, 17],\n",
       "       [ 1, 13]])"
      ]
     },
     "execution_count": 71,
     "metadata": {},
     "output_type": "execute_result"
    }
   ],
   "source": [
    "enteros_2d[4:7, 0:2]"
   ]
  }
 ],
 "metadata": {
  "kernelspec": {
   "display_name": "Python 3",
   "language": "python",
   "name": "python3"
  },
  "language_info": {
   "codemirror_mode": {
    "name": "ipython",
    "version": 3
   },
   "file_extension": ".py",
   "mimetype": "text/x-python",
   "name": "python",
   "nbconvert_exporter": "python",
   "pygments_lexer": "ipython3",
   "version": "3.12.3"
  }
 },
 "nbformat": 4,
 "nbformat_minor": 5
}
